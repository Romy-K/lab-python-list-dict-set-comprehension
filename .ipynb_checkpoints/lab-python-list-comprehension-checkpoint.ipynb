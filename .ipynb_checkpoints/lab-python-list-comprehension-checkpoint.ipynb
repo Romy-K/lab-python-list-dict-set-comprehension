{
 "cells": [
  {
   "cell_type": "markdown",
   "id": "25d7736c-ba17-4aff-b6bb-66eba20fbf4e",
   "metadata": {},
   "source": [
    "# Lab | List, Dict and Set Comprehension"
   ]
  },
  {
   "cell_type": "code",
   "execution_count": null,
   "id": "e5c6b4a1-0e1d-495d-a5dc-27ca57c47121",
   "metadata": {},
   "outputs": [],
   "source": [
    "products = [\"t-shirt\", \"mug\", \"hat\", \"book\", \"keychain\"]\n",
    "inventory = {}"
   ]
  },
  {
   "cell_type": "code",
   "execution_count": null,
   "id": "f02c9c4e-43c3-4de4-b496-2c8133baea04",
   "metadata": {},
   "outputs": [],
   "source": [
    "def initialize_inventory(products):\n",
    "    # Collect inventory data\n",
    "    global inventory \n",
    "    inventory = {product: int(input(f\"How many {product}s available? \")) for product in products}\n",
    "    total_available_products = sum(inventory.values())\n",
    "\n",
    "    # Display the initial inventory\n",
    "    print(\"Initial inventory:\")\n",
    "    for product, quantity in inventory.items():\n",
    "        print(f\"{product}: {quantity}\")\n",
    "    print(f\"Total products: {total_available_products}\")\n",
    "\n",
    "    return total_available_products  # Return calculated total"
   ]
  },
  {
   "cell_type": "code",
   "execution_count": null,
   "id": "955a279e-5b28-47cc-879f-d5f8f8ceade8",
   "metadata": {},
   "outputs": [],
   "source": [
    "customer_orders = set() "
   ]
  },
  {
   "cell_type": "code",
   "execution_count": null,
   "id": "01bef9c6-4d20-450e-b0a7-2d6da506fb01",
   "metadata": {},
   "outputs": [],
   "source": [
    "def get_customer_orders():\n",
    "    global customer_orders\n",
    "    ordering = True\n",
    "    order_count = 0\n",
    "    customer_orders = set()\n",
    "\n",
    "\n",
    "    print(f\"\\n Welcome to Customer Order Management. \")\n",
    "\n",
    "    while ordering:\n",
    "        try:\n",
    "            order_amount = int(input(\"Enter the amount of products ordered. \"))\n",
    "        except ValueError:\n",
    "            print(\"Enter a valid number.\")\n",
    "            continue\n",
    "\n",
    "        if order_amount > 5:\n",
    "            print(f\"Only 5 items available. Please enter a number under 6.\")\n",
    "            continue\n",
    "\n",
    "        # Order items if the input value is logical\n",
    "        while order_count < order_amount:\n",
    "            order = input(\"Enter the ordered item: \").strip().lower()\n",
    "            if order in products:\n",
    "                customer_orders.add(order)\n",
    "                order_count += 1\n",
    "            else:\n",
    "                print(\"Item not available. Choose an item from the inventory.\")\n",
    "\n",
    "        if order_count >= order_amount:\n",
    "            break\n",
    "    \n",
    "    print(f\"Items ordered: {len(customer_orders)}\")\n",
    "    return customer_orders\n"
   ]
  },
  {
   "cell_type": "code",
   "execution_count": null,
   "id": "3a3ad142-fd94-466d-b31c-9951f5fc6b00",
   "metadata": {},
   "outputs": [],
   "source": [
    "def update_inventory(customer_orders, inventory):\n",
    "    for item in customer_orders:\n",
    "        if inventory[item] > 0: \n",
    "            inventory[item] = max(0, inventory[item] - 1)\n",
    "            if inventory[item] == 0:\n",
    "                del inventory[item]\n",
    "    print(\"Customer orders: \", customer_orders)\n",
    "#I don't know how to use comprehension here "
   ]
  },
  {
   "cell_type": "code",
   "execution_count": null,
   "id": "edc3978e-2269-4fdc-8dc2-1a697f6ce82b",
   "metadata": {},
   "outputs": [],
   "source": [
    "def calculate_order_statistics(customer_orders, total_available_products):\n",
    "    total_products_ordered = len(customer_orders)\n",
    "    percentage_ordered = (total_products_ordered / total_available_products) * 100\n",
    "    print(f\"The total number of products ordered is {total_products_ordered}.\")\n",
    "    print(f\"Percentage of Products Ordered: {percentage_ordered:.2f}%\")\n",
    "    return total_products_ordered, percentage_ordered"
   ]
  },
  {
   "cell_type": "code",
   "execution_count": null,
   "id": "d0f6c5db-87d5-4a49-9b64-86d7e6c14266",
   "metadata": {},
   "outputs": [],
   "source": [
    "def print_updated_inventory(inventory):\n",
    "    print(\"\\n Updated inventory:\")\n",
    "    for item, quantity in inventory.items():\n",
    "        print(f\"{item}: {quantity}\") \n",
    "    \n",
    "# I don't see how comprehension would make this code more readable"
   ]
  },
  {
   "cell_type": "code",
   "execution_count": null,
   "id": "3fafc0fb-62f4-4b52-a504-e5d3b4ed8028",
   "metadata": {},
   "outputs": [],
   "source": [
    "# def get_price:\n",
    "# price = {}\n",
    "\n",
    "# for product in customer_orders:\n",
    "#     price[product] = float(input(f\"Insert price for {product}: \"))\n",
    "\n",
    "# comprehension below\n",
    "\n",
    "def get_price():\n",
    "    product_price = {product: (float(input(f\"\\nInsert price for {product}: \"))) for product in customer_orders}\n",
    "    total_price = sum(product_price.values()) # add all values from product_price dictionary together\n",
    "    print(\"Total price: \", total_price)"
   ]
  },
  {
   "cell_type": "code",
   "execution_count": null,
   "id": "e1b548eb-73d3-4aef-b732-54fd184c3e46",
   "metadata": {},
   "outputs": [],
   "source": [
    "get_price()"
   ]
  },
  {
   "cell_type": "code",
   "execution_count": null,
   "id": "d9fb4690-b87e-40da-a09e-cd7a4a1f3c31",
   "metadata": {},
   "outputs": [],
   "source": [
    "def cust_ord_mgmt():\n",
    "    total_available_products = initialize_inventory(products)\n",
    "    get_customer_orders()\n",
    "    update_inventory(customer_orders, inventory)\n",
    "    order_statistics = calculate_order_statistics(customer_orders, total_available_products)\n",
    "    print_updated_inventory(inventory)\n",
    "    get_price()\n"
   ]
  },
  {
   "cell_type": "code",
   "execution_count": null,
   "id": "3aebe812-ad77-48c2-b76e-2c5fbeedd2a2",
   "metadata": {},
   "outputs": [],
   "source": [
    "cust_ord_mgmt()"
   ]
  },
  {
   "cell_type": "markdown",
   "id": "7dd3cbde-675a-4b81-92c3-f728846dbe06",
   "metadata": {},
   "source": [
    "## Exercise: Managing Customer Orders Optimized with Comprehension"
   ]
  },
  {
   "cell_type": "markdown",
   "id": "5d500160-2fb7-4777-b5e4-09d45ebaf328",
   "metadata": {},
   "source": [
    "In the previous exercise, you developed a program to manage customer orders and inventory. Now, let's take it a step further and incorporate comprehension into your code.\n",
    "\n",
    "Follow the steps below to complete the exercise:\n",
    "\n",
    "1. Review your code from the previous exercise and identify areas where you can apply comprehension to simplify and streamline your code. \n",
    "\n",
    "    - *Hint: Apply it to initialize inventory, updating the inventory and printing the updated inventory.*\n",
    "    \n",
    "    - For example, in initializing the inventory, we could have:\n",
    "    \n",
    "        ```python\n",
    "        def initialize_inventory(products):\n",
    "            inventory = {product: int(input(f\"Enter the quantity of {product}s available: \")) for product in products}\n",
    "            return inventory\n",
    "\n",
    "        ```\n",
    "<br>\n",
    "    \n",
    "    \n",
    "2. Modify the function get_customer_orders so it prompts the user to enter the number of customer orders and gathers the product names using a loop and user input. Use comprehension.\n",
    "\n",
    "3. Add a new function to calculate the total price of the customer order. For each product in customer_orders, prompt the user to enter the price of that product. Use comprehension to calculate the total price. Note: assume that the user can only have 1 unit of each product.\n",
    "\n",
    "4. Modify the update_inventory function to remove the product from the inventory if its quantity becomes zero after fulfilling the customer orders. Use comprehension to filter out the products with a quantity of zero from the inventory.\n",
    "\n",
    "5. Print the total price of the customer order.\n",
    "\n",
    "Your code should produce output similar to the following:\n",
    "\n",
    "```python\n",
    "Enter the quantity of t-shirts available:  5\n",
    "Enter the quantity of mugs available:  4\n",
    "Enter the quantity of hats available:  3\n",
    "Enter the quantity of books available:  2\n",
    "Enter the quantity of keychains available:  1\n",
    "Enter the number of customer orders:  2\n",
    "Enter the name of a product that a customer wants to order:  hat\n",
    "Enter the name of a product that a customer wants to order:  keychain\n",
    "\n",
    "Order Statistics:\n",
    "Total Products Ordered: 2\n",
    "Percentage of Unique Products Ordered: 40.0\n",
    "\n",
    "Updated Inventory:\n",
    "t-shirt: 5\n",
    "mug: 4\n",
    "hat: 2\n",
    "book: 2\n",
    "Enter the price of keychain:  5\n",
    "Enter the price of hat:  10\n",
    "Total Price: 15.0\n",
    "\n",
    "```\n"
   ]
  }
 ],
 "metadata": {
  "kernelspec": {
   "display_name": "Python [conda env:base] *",
   "language": "python",
   "name": "conda-base-py"
  },
  "language_info": {
   "codemirror_mode": {
    "name": "ipython",
    "version": 3
   },
   "file_extension": ".py",
   "mimetype": "text/x-python",
   "name": "python",
   "nbconvert_exporter": "python",
   "pygments_lexer": "ipython3",
   "version": "3.12.7"
  }
 },
 "nbformat": 4,
 "nbformat_minor": 5
}
